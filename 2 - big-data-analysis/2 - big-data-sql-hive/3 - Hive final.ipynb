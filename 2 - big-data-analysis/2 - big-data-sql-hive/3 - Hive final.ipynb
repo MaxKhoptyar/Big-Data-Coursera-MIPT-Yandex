{
 "cells": [
  {
   "cell_type": "code",
   "execution_count": 29,
   "metadata": {},
   "outputs": [
    {
     "name": "stdout",
     "output_type": "stream",
     "text": [
      "Overwriting task2_explode.hql\n"
     ]
    }
   ],
   "source": [
    "%%writefile task2_explode.hql\n",
    "\n",
    "USE stackoverflow_;\n",
    "\n",
    "DROP TABLE  IF EXISTS tags2009;\n",
    "\n",
    "CREATE TABLE tags2009 AS \n",
    "SELECT t,COUNT(*) AS c1\n",
    "FROM posts LATERAL VIEW EXPLODE(tags) posts AS t \n",
    "WHERE year  = 2009 AND post_type_id = 1\n",
    "GROUP BY t\n",
    "ORDER BY c1 DESC;\n",
    "\n",
    "DROP TABLE IF EXISTS tags2016;\n",
    "\n",
    "CREATE TABLE tags2016 AS\n",
    "SELECT t,COUNT(*) AS c1\n",
    "FROM posts LATERAL VIEW EXPLODE(tags) posts AS t\n",
    "WHERE year  = 2016 AND post_type_id = 1\n",
    "GROUP BY t\n",
    "ORDER BY c1 DESC\n",
    "LIMIT 10;"
   ]
  },
  {
   "cell_type": "code",
   "execution_count": 41,
   "metadata": {},
   "outputs": [
    {
     "name": "stdout",
     "output_type": "stream",
     "text": [
      "Overwriting task2_select2009.hql\n"
     ]
    }
   ],
   "source": [
    "%%writefile task2_select2009.hql\n",
    "\n",
    "USE stackoverflow_;\n",
    "\n",
    "SELECT CONCAT_WS(\"\\t\",t2016.t,String(t2016.rank),String(t2009.rank),String(t2016.c1),String(t2009.c1)) \n",
    "FROM (SELECT *,RANK () OVER (ORDER BY c1 DESC) rank FROM \n",
    "      (\n",
    "SELECT t,COUNT(*) AS c1\n",
    "FROM posts LATERAL VIEW EXPLODE(tags) posts AS t\n",
    "WHERE year  = 2016 AND post_type_id = 1\n",
    "GROUP BY t\n",
    "ORDER BY c1 DESC\n",
    "LIMIT 10) t_2016) t2016\n",
    "LEFT JOIN (SELECT *,RANK () OVER (ORDER BY c1 DESC) rank FROM \n",
    "           (\n",
    "SELECT t,COUNT(*) AS c1\n",
    "FROM posts LATERAL VIEW EXPLODE(tags) posts AS t \n",
    "WHERE year  = 2009 AND post_type_id = 1\n",
    "GROUP BY t\n",
    "ORDER BY c1 DESC)t_2009) t2009\n",
    "ON t2016.t = t2009.t;"
   ]
  },
  {
   "cell_type": "markdown",
   "metadata": {
    "colab_type": "text",
    "id": "FJTsCVTkJ5uC"
   },
   "source": [
    "## Step 5. Submission part. Do not touch!! And simple run all cells below!"
   ]
  },
  {
   "cell_type": "markdown",
   "metadata": {
    "colab_type": "text",
    "id": "k90P-CwSJ5uC"
   },
   "source": [
    "Copy your notebook from the steps <a href=\"#Step-4.-Complete-the-assignment\">Step 4</a> and <a href=\"#Step-5.-Submission-part.-Do-not-touch!!-And-simple-run-all-cells-below!\">Step 5</a> to the new notebook. Run all the cells! And submit the copied notebook!"
   ]
  },
  {
   "cell_type": "markdown",
   "metadata": {
    "colab_type": "text",
    "id": "KK3zjw7EJ5uF"
   },
   "source": [
    "Take a look at your submission query!"
   ]
  },
  {
   "cell_type": "code",
   "execution_count": 42,
   "metadata": {},
   "outputs": [],
   "source": [
    "#!cat task1_create_external_table.hql > task1.hql\n",
    "#!cat task1_insert_table.hql >> task1.hql\n",
    "#!cat task1_result.hql >> task1.hql\n",
    "\n",
    "#!cat task2_explode.hql > task2.hql\n",
    "!cat task2_select2009.hql > task2.hql"
   ]
  },
  {
   "cell_type": "code",
   "execution_count": 43,
   "metadata": {
    "colab": {
     "autoexec": {
      "startup": false,
      "wait_interval": 0
     }
    },
    "colab_type": "code",
    "id": "CLawbwF4J5uG"
   },
   "outputs": [
    {
     "name": "stdout",
     "output_type": "stream",
     "text": [
      "\r\n",
      "USE stackoverflow_;\r\n",
      "\r\n",
      "SELECT CONCAT_WS(\"\\t\",t2016.t,String(t2016.rank),String(t2009.rank),String(t2016.c1),String(t2009.c1)) \r\n",
      "FROM (SELECT *,RANK () OVER (ORDER BY c1 DESC) rank FROM \r\n",
      "      (\r\n",
      "SELECT t,COUNT(*) AS c1\r\n",
      "FROM posts LATERAL VIEW EXPLODE(tags) posts AS t\r\n",
      "WHERE year  = 2016 AND post_type_id = 1\r\n",
      "GROUP BY t\r\n",
      "ORDER BY c1 DESC\r\n",
      "LIMIT 10) t_2016) t2016\r\n",
      "LEFT JOIN (SELECT *,RANK () OVER (ORDER BY c1 DESC) rank FROM \r\n",
      "           (\r\n",
      "SELECT t,COUNT(*) AS c1\r\n",
      "FROM posts LATERAL VIEW EXPLODE(tags) posts AS t \r\n",
      "WHERE year  = 2009 AND post_type_id = 1\r\n",
      "GROUP BY t\r\n",
      "ORDER BY c1 DESC)t_2009) t2009\r\n",
      "ON t2016.t = t2009.t;"
     ]
    }
   ],
   "source": [
    "#!cat task1.hql\n",
    "\n",
    "!cat task2.hql"
   ]
  },
  {
   "cell_type": "code",
   "execution_count": 44,
   "metadata": {
    "colab": {
     "autoexec": {
      "startup": false,
      "wait_interval": 0
     }
    },
    "colab_type": "code",
    "id": "GGO0BjtzJ5uI"
   },
   "outputs": [
    {
     "data": {
      "application/javascript": [
       "\n",
       "$(document).ready(function() {\n",
       "    console.log('Ready');\n",
       "    \n",
       "    \n",
       "    function is_hive_command(list_tokens) {\n",
       "        return list_tokens.indexOf('hive') > -1 && \n",
       "             list_tokens.indexOf('f') > -1 &&\n",
       "             list_tokens.indexOf('-') > -1 && \n",
       "             list_tokens.indexOf('!') > -1 &&\n",
       "             list_tokens.indexOf('hql') > -1 && \n",
       "             list_tokens.indexOf('writefile') == -1;\n",
       "    } \n",
       "    \n",
       "    function collectText(input_tag) {\n",
       "\n",
       "        var result_string = [];\n",
       "        $.each($(input_tag).children(), function(index, child) {\n",
       "            result_string.push($(child).text());\n",
       "        });\n",
       "        return [result_string, is_hive_command(result_string)];\n",
       "    };\n",
       "    \n",
       "    var filtered_results = $(\".cell.code_cell.rendered\").filter(function(index, element) {\n",
       "        var out = collectText($(element).find('.CodeMirror-line').find('span'));\n",
       "        console.log(out);\n",
       "        return collectText($(element).find('.CodeMirror-line').find('span'))[1];\n",
       "    });\n",
       "    $(filtered_results).remove();\n",
       "});"
      ],
      "text/plain": [
       "<IPython.core.display.Javascript object>"
      ]
     },
     "metadata": {},
     "output_type": "display_data"
    }
   ],
   "source": [
    "%%javascript\n",
    "\n",
    "$(document).ready(function() {\n",
    "    console.log('Ready');\n",
    "    \n",
    "    \n",
    "    function is_hive_command(list_tokens) {\n",
    "        return list_tokens.indexOf('hive') > -1 && \n",
    "             list_tokens.indexOf('f') > -1 &&\n",
    "             list_tokens.indexOf('-') > -1 && \n",
    "             list_tokens.indexOf('!') > -1 &&\n",
    "             list_tokens.indexOf('hql') > -1 && \n",
    "             list_tokens.indexOf('writefile') == -1;\n",
    "    } \n",
    "    \n",
    "    function collectText(input_tag) {\n",
    "\n",
    "        var result_string = [];\n",
    "        $.each($(input_tag).children(), function(index, child) {\n",
    "            result_string.push($(child).text());\n",
    "        });\n",
    "        return [result_string, is_hive_command(result_string)];\n",
    "    };\n",
    "    \n",
    "    var filtered_results = $(\".cell.code_cell.rendered\").filter(function(index, element) {\n",
    "        var out = collectText($(element).find('.CodeMirror-line').find('span'));\n",
    "        console.log(out);\n",
    "        return collectText($(element).find('.CodeMirror-line').find('span'))[1];\n",
    "    });\n",
    "    $(filtered_results).remove();\n",
    "});"
   ]
  },
  {
   "cell_type": "code",
   "execution_count": null,
   "metadata": {
    "colab": {
     "autoexec": {
      "startup": false,
      "wait_interval": 0
     }
    },
    "colab_type": "code",
    "id": "unTiTnY_J5uK"
   },
   "outputs": [],
   "source": [
    "%%bash\n",
    "hive -f task2.hql"
   ]
  },
  {
   "cell_type": "markdown",
   "metadata": {
    "colab_type": "text",
    "id": "OwS_Hbx3J5uL"
   },
   "source": [
    "Congratulations! You have completed the assignment! Now you can submit it to the system and get your results!\n",
    "\n",
    "Copy your notebook from the steps <a href=\"#Step-4.-Complete-the-assignment\">Step 4</a> and <a href=\"#Step-5.-Submission-part.-Do-not-touch!!-And-simple-run-all-cells-below!\">Step 5</a> to the new notebook. Run all the cells! And submit the copied notebook!"
   ]
  }
 ],
 "metadata": {
  "colab": {
   "collapsed_sections": [],
   "default_view": {},
   "name": "901_to_students.ipynb",
   "provenance": [],
   "toc_visible": true,
   "version": "0.3.2",
   "views": {}
  },
  "kernelspec": {
   "display_name": "Python 3",
   "language": "python",
   "name": "python3"
  },
  "language_info": {
   "codemirror_mode": {
    "name": "ipython",
    "version": 3
   },
   "file_extension": ".py",
   "mimetype": "text/x-python",
   "name": "python",
   "nbconvert_exporter": "python",
   "pygments_lexer": "ipython3",
   "version": "3.7.3"
  }
 },
 "nbformat": 4,
 "nbformat_minor": 1
}
