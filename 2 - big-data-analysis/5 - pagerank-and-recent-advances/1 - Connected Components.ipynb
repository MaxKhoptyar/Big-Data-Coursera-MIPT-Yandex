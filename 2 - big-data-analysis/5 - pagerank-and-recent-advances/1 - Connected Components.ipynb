{
 "cells": [
  {
   "cell_type": "code",
   "execution_count": 2,
   "metadata": {},
   "outputs": [],
   "source": [
    "import os"
   ]
  },
  {
   "cell_type": "code",
   "execution_count": 4,
   "metadata": {},
   "outputs": [],
   "source": [
    "from pyspark.sql.functions import collect_list\n",
    "from pyspark.sql import SparkSession\n",
    "from pyspark.sql import Window\n",
    "from pyspark.sql.functions import row_number, sum\n",
    "from pyspark.sql.functions import col, rank\n",
    "\n",
    "sparkSession = SparkSession.builder.enableHiveSupport().master(\"local[2]\").getOrCreate()\n",
    "\n",
    "data = sparkSession.read.parquet(\"/data/sample264\")\n",
    "meta = sparkSession.read.parquet(\"/data/meta\")"
   ]
  },
  {
   "cell_type": "code",
   "execution_count": 58,
   "metadata": {
    "scrolled": true
   },
   "outputs": [
    {
     "name": "stdout",
     "output_type": "stream",
     "text": [
      "798256 923706\n",
      "798319 837992\n",
      "798322 876562\n",
      "798331 827364\n",
      "798335 840741\n",
      "798374 816874\n",
      "798375 810685\n",
      "798379 812055\n",
      "798380 840113\n",
      "798396 817687\n",
      "798398 926302\n",
      "798405 867217\n",
      "798443 905923\n",
      "798457 918918\n",
      "798460 891840\n",
      "798461 940379\n",
      "798470 840814\n",
      "798474 963162\n",
      "798477 883244\n",
      "798485 955521\n",
      "798505 905671\n",
      "798550 936295\n",
      "798626 845438\n",
      "798691 818279\n",
      "798692 898823\n",
      "798702 811440\n",
      "798704 937570\n",
      "798725 933147\n",
      "798738 894170\n",
      "798745 799665\n",
      "798782 956938\n",
      "798801 950802\n",
      "798820 890393\n",
      "798833 916319\n",
      "798865 962662\n",
      "798931 893574\n",
      "798946 946408\n",
      "799012 809997\n",
      "799024 935246\n",
      "799047 905199\n"
     ]
    }
   ],
   "source": [
    "renamed_data = data.select(col('userId').alias('userId'),col('trackId').alias('trackId_renamed'),col('artistId').alias('artistId_renamed'),col('timestamp').alias('timestamp_renamed'))\n",
    "\n",
    "r = data.join(renamed_data,'userId') \\\n",
    ".filter(col('trackId') != col('trackId_renamed')).filter((col('timestamp_renamed') - col('timestamp')) > -420).filter(((col('timestamp_renamed') - col('timestamp')) <= 420))   \n",
    "\n",
    "r = r.groupBy('trackId','trackId_renamed').count()\n",
    "\n",
    "w2 = Window.partitionBy('trackId').orderBy('count')\n",
    "\n",
    "r = r.withColumn('rank',rank().over(w2))\n",
    "r = r.filter(col('rank') < 40)\n",
    "\n",
    "maxR = r.groupBy('trackId').agg(sum('count').alias('sum_count'))\n",
    "r = r.join(maxR,'trackId').withColumn('normalizedWeigth',col('count') / col('sum_count'))\n",
    "r = r.orderBy(col('normalizedWeigth').desc(),col('trackId'),col('trackId_renamed')).take(40)\n",
    "\n",
    "for x in r:\n",
    "    print(\"{} {}\".format(x[0],x[1]))"
   ]
  },
  {
   "cell_type": "code",
   "execution_count": null,
   "metadata": {},
   "outputs": [],
   "source": []
  }
 ],
 "metadata": {
  "kernelspec": {
   "display_name": "Python 3",
   "language": "python",
   "name": "python3"
  },
  "language_info": {
   "codemirror_mode": {
    "name": "ipython",
    "version": 3
   },
   "file_extension": ".py",
   "mimetype": "text/x-python",
   "name": "python",
   "nbconvert_exporter": "python",
   "pygments_lexer": "ipython3",
   "version": "3.6.2"
  }
 },
 "nbformat": 4,
 "nbformat_minor": 2
}
