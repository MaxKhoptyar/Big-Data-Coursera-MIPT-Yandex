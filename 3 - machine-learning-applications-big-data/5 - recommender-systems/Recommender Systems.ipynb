{
 "cells": [
  {
   "cell_type": "code",
   "execution_count": 14,
   "metadata": {},
   "outputs": [],
   "source": [
    "import math\n",
    "from pyspark import SparkContext\n",
    "from pyspark.sql import SparkSession\n",
    "from pyspark.mllib.recommendation import Rating\n",
    "from pyspark.mllib.recommendation import ALS\n",
    "\n",
    "SparkContext.setSystemProperty('spark.executor.memory', '3g')\n",
    "spark_session = SparkSession.builder \\\n",
    "    .enableHiveSupport() \\\n",
    "    .appName(\"recSys\")\\\n",
    "    .master(\"local[8]\")\\\n",
    "    .getOrCreate()\n",
    "    \n",
    "sc = spark_session.sparkContext\n",
    "sc.setCheckpointDir('/tmp')\n",
    "\n",
    "data = spark_session.read.format(\"csv\").option(\"header\", \"true\").load(\"/data/movielens/ratings_100k.csv\")\n",
    "\n",
    "split = data.rdd.map(lambda l: Rating(int(l[0]), int(l[1]), float(l[2]))).randomSplit([0.333,0.333,0.334])"
   ]
  },
  {
   "cell_type": "code",
   "execution_count": 15,
   "metadata": {},
   "outputs": [],
   "source": [
    "l = []\n",
    "rank = 20\n",
    "iterations = 5\n",
    "lambda_ = 0.01\n",
    "\n",
    "test = split[0].map(lambda t: (t[0], t[1]))\n",
    "train = split[1].union(split[2])\n",
    "\n",
    "model = ALS.train(train,rank =rank, iterations = iterations, lambda_ = lambda_,blocks = 15)\n",
    "predictions = model.predictAll(test).map(lambda r: ((r[0], r[1]), r[2]))\n",
    "\n",
    "ratesAndPreds = split[0].map(lambda r: ((r[0], r[1]), r[2])).join(predictions)\n",
    "mse = ratesAndPreds.map(lambda r: (r[1][0] - r[1][1])**2).mean()\n",
    "\n",
    "l.append(math.sqrt(mse))"
   ]
  },
  {
   "cell_type": "code",
   "execution_count": 16,
   "metadata": {},
   "outputs": [],
   "source": [
    "score = sum(l) / len(l)"
   ]
  },
  {
   "cell_type": "code",
   "execution_count": 17,
   "metadata": {},
   "outputs": [
    {
     "name": "stdout",
     "output_type": "stream",
     "text": [
      "1.30774496651\n"
     ]
    }
   ],
   "source": [
    "print(score)"
   ]
  },
  {
   "cell_type": "code",
   "execution_count": null,
   "metadata": {},
   "outputs": [],
   "source": []
  }
 ],
 "metadata": {
  "kernelspec": {
   "display_name": "Python 3",
   "language": "python",
   "name": "python3"
  },
  "language_info": {
   "codemirror_mode": {
    "name": "ipython",
    "version": 3
   },
   "file_extension": ".py",
   "mimetype": "text/x-python",
   "name": "python",
   "nbconvert_exporter": "python",
   "pygments_lexer": "ipython3",
   "version": "3.7.3"
  }
 },
 "nbformat": 4,
 "nbformat_minor": 2
}
